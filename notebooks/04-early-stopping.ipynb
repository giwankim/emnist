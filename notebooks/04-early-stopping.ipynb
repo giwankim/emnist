{
 "cells": [
  {
   "cell_type": "markdown",
   "metadata": {},
   "source": [
    "# Early Stopping"
   ]
  },
  {
   "cell_type": "code",
   "execution_count": 1,
   "metadata": {},
   "outputs": [],
   "source": [
    "%reload_ext autoreload\n",
    "%autoreload 2\n",
    "%matplotlib inline"
   ]
  },
  {
   "cell_type": "code",
   "execution_count": 2,
   "metadata": {},
   "outputs": [],
   "source": [
    "import sys\n",
    "sys.path.insert(0, \"../src\")"
   ]
  },
  {
   "cell_type": "code",
   "execution_count": 3,
   "metadata": {},
   "outputs": [],
   "source": [
    "import numpy as np\n",
    "import pandas as pd\n",
    "from sklearn import metrics\n",
    "from sklearn import model_selection\n",
    "import albumentations as A\n",
    "\n",
    "import torch\n",
    "\n",
    "import callbacks\n",
    "import config\n",
    "import dataset\n",
    "import models\n",
    "import engine"
   ]
  },
  {
   "cell_type": "code",
   "execution_count": 4,
   "metadata": {},
   "outputs": [],
   "source": [
    "import numpy as np\n",
    "import torch\n",
    "\n",
    "\n",
    "class EarlyStopping:\n",
    "    def __init__(self, patience=7, mode=\"max\", delta=0.0001):\n",
    "        self.patience = patience\n",
    "        self.mode = mode\n",
    "        self.delta = delta\n",
    "        \n",
    "        self.best_score = None\n",
    "        self.counter = 0\n",
    "        self.early_stop = False\n",
    "        \n",
    "        if mode == \"max\":\n",
    "            self.val_score = -np.inf\n",
    "        elif mode == \"min\":\n",
    "            self.val_score = np.inf\n",
    "        \n",
    "    def __call__(self, epoch_score, model, model_path):\n",
    "        if self.mode == \"max\":\n",
    "            score = np.copy(epoch_score)\n",
    "        elif self.mode == \"min\":\n",
    "            score = -1.0 * epoch_score\n",
    "            \n",
    "        if self.best_score is None:\n",
    "            self.best_score = score\n",
    "            self.save_checkpoint(epoch_score, model, model_path)\n",
    "        elif score < self.best_score + self.delta:\n",
    "            self.counter += 1\n",
    "            print(f\"EarlyStopping counter: {self.counter} out of {self.patience}\")\n",
    "            if self.counter >= self.patience:\n",
    "                self.early_stop = True\n",
    "        else:\n",
    "            self.best_score = score\n",
    "            self.counter = 0\n",
    "            self.save_checkpoint(epoch_score, model, model_path)\n",
    "    \n",
    "    def save_checkpoint(self, epoch_score, model, model_path):\n",
    "        if epoch_score not in (np.inf, -np.inf, -np.nan, np.nan):\n",
    "            print(f\"Validation score improved ({self.val_score} --> {epoch_score}). Saving model!\")\n",
    "            torch.save(model.state_dict(), model_path)\n",
    "        self.val_score = epoch_score"
   ]
  },
  {
   "cell_type": "code",
   "execution_count": 5,
   "metadata": {},
   "outputs": [],
   "source": [
    "df = pd.read_csv(config.TRAIN_CSV)\n",
    "# df_train, df_valid = model_selection.train_test_split(df, test_size=0.1, stratify=df.digit)\n",
    "train_idx, valid_idx = model_selection.train_test_split(np.arange(len(df)), test_size=0.1, stratify=df.digit)\n",
    "train_dataset = dataset.EMNISTDataset(df, train_idx)\n",
    "valid_dataset = dataset.EMNISTDataset(df, valid_idx)\n",
    "train_loader = torch.utils.data.DataLoader(train_dataset, batch_size=config.TRAIN_BATCH_SIZE, shuffle=True)\n",
    "valid_loader = torch.utils.data.DataLoader(valid_dataset, batch_size=config.TEST_BATCH_SIZE)"
   ]
  },
  {
   "cell_type": "code",
   "execution_count": 6,
   "metadata": {},
   "outputs": [
    {
     "name": "stdout",
     "output_type": "stream",
     "text": [
      "Epoch: 0, Valid accuracy=0.2634146341463415\n",
      "Validation score improved (-inf -> 0.2634146341463415). Saving model...\n",
      "Epoch: 1, Valid accuracy=0.5463414634146342\n",
      "Validation score improved (0.2634146341463415 -> 0.5463414634146342). Saving model...\n",
      "Epoch: 2, Valid accuracy=0.5902439024390244\n",
      "Validation score improved (0.5463414634146342 -> 0.5902439024390244). Saving model...\n",
      "Epoch: 3, Valid accuracy=0.7170731707317073\n",
      "Validation score improved (0.5902439024390244 -> 0.7170731707317073). Saving model...\n",
      "Epoch: 4, Valid accuracy=0.6926829268292682\n",
      "EarlyStopping counter: 1 out of 15\n",
      "Epoch: 5, Valid accuracy=0.7658536585365854\n",
      "Validation score improved (0.7170731707317073 -> 0.7658536585365854). Saving model...\n",
      "Epoch: 6, Valid accuracy=0.7658536585365854\n",
      "EarlyStopping counter: 1 out of 15\n",
      "Epoch: 7, Valid accuracy=0.7658536585365854\n",
      "EarlyStopping counter: 2 out of 15\n",
      "Epoch: 8, Valid accuracy=0.7024390243902439\n",
      "EarlyStopping counter: 3 out of 15\n",
      "Epoch: 9, Valid accuracy=0.7951219512195122\n",
      "Validation score improved (0.7658536585365854 -> 0.7951219512195122). Saving model...\n",
      "Epoch: 10, Valid accuracy=0.7414634146341463\n",
      "EarlyStopping counter: 1 out of 15\n",
      "Epoch: 11, Valid accuracy=0.7414634146341463\n",
      "EarlyStopping counter: 2 out of 15\n",
      "Epoch: 12, Valid accuracy=0.7463414634146341\n",
      "EarlyStopping counter: 3 out of 15\n",
      "Epoch: 13, Valid accuracy=0.775609756097561\n",
      "EarlyStopping counter: 4 out of 15\n",
      "Epoch: 14, Valid accuracy=0.7609756097560976\n",
      "EarlyStopping counter: 5 out of 15\n",
      "Epoch: 15, Valid accuracy=0.8195121951219512\n",
      "Validation score improved (0.7951219512195122 -> 0.8195121951219512). Saving model...\n",
      "Epoch: 16, Valid accuracy=0.8048780487804879\n",
      "EarlyStopping counter: 1 out of 15\n",
      "Epoch: 17, Valid accuracy=0.8390243902439024\n",
      "Validation score improved (0.8195121951219512 -> 0.8390243902439024). Saving model...\n",
      "Epoch: 18, Valid accuracy=0.7853658536585366\n",
      "EarlyStopping counter: 1 out of 15\n",
      "Epoch: 19, Valid accuracy=0.7951219512195122\n",
      "EarlyStopping counter: 2 out of 15\n",
      "Epoch: 20, Valid accuracy=0.8\n",
      "EarlyStopping counter: 3 out of 15\n",
      "Epoch: 21, Valid accuracy=0.8048780487804879\n",
      "EarlyStopping counter: 4 out of 15\n",
      "Epoch: 22, Valid accuracy=0.7951219512195122\n",
      "EarlyStopping counter: 5 out of 15\n",
      "Epoch: 23, Valid accuracy=0.8341463414634146\n",
      "EarlyStopping counter: 6 out of 15\n",
      "Epoch: 24, Valid accuracy=0.8048780487804879\n",
      "EarlyStopping counter: 7 out of 15\n",
      "Epoch: 25, Valid accuracy=0.8341463414634146\n",
      "EarlyStopping counter: 8 out of 15\n",
      "Epoch: 26, Valid accuracy=0.8146341463414634\n",
      "EarlyStopping counter: 9 out of 15\n",
      "Epoch: 27, Valid accuracy=0.7804878048780488\n",
      "EarlyStopping counter: 10 out of 15\n",
      "Epoch: 28, Valid accuracy=0.7853658536585366\n",
      "EarlyStopping counter: 11 out of 15\n",
      "Epoch    28: reducing learning rate of group 0 to 5.0000e-04.\n",
      "Epoch: 29, Valid accuracy=0.824390243902439\n",
      "EarlyStopping counter: 12 out of 15\n",
      "Epoch: 30, Valid accuracy=0.8195121951219512\n",
      "EarlyStopping counter: 13 out of 15\n",
      "Epoch: 31, Valid accuracy=0.824390243902439\n",
      "EarlyStopping counter: 14 out of 15\n",
      "Epoch: 32, Valid accuracy=0.8390243902439024\n",
      "EarlyStopping counter: 15 out of 15\n",
      "Early stopping. Best score 0.8390243902439024. Loading weights...\n"
     ]
    }
   ],
   "source": [
    "EPOCHS = 200\n",
    "\n",
    "device = torch.device(config.DEVICE)\n",
    "model = models.SpinalVGG()\n",
    "# model = models.Model()\n",
    "model.to(device)\n",
    "\n",
    "optimizer = torch.optim.Adam(model.parameters())\n",
    "scheduler = torch.optim.lr_scheduler.ReduceLROnPlateau(\n",
    "    optimizer, mode='max', verbose=True, patience=10, factor=0.5\n",
    ")\n",
    "early_stop = callbacks.EarlyStopping(patience=15, mode=\"max\")\n",
    "\n",
    "\n",
    "for epoch in range(EPOCHS):\n",
    "    engine.train(train_loader, model, optimizer, device)\n",
    "    predictions, targets = engine.evaluate(valid_loader, model, device)\n",
    "\n",
    "    predictions = np.array(predictions)\n",
    "    predictions = np.argmax(predictions, axis=1)\n",
    "    accuracy = metrics.accuracy_score(targets, predictions)\n",
    "    print(f\"Epoch: {epoch}, Valid accuracy={accuracy}\")\n",
    "    \n",
    "    model_path = \"./test.pt\"\n",
    "    early_stop(accuracy, model, model_path)\n",
    "    if early_stop.early_stop:\n",
    "        print(f\"Early stopping. Best score {early_stop.best_score}. Loading weights...\")\n",
    "        model.load_state_dict(torch.load(model_path))\n",
    "        break\n",
    "    \n",
    "    scheduler.step(accuracy)"
   ]
  },
  {
   "cell_type": "code",
   "execution_count": 14,
   "metadata": {},
   "outputs": [
    {
     "ename": "AttributeError",
     "evalue": "'function' object has no attribute 'copy'",
     "output_type": "error",
     "traceback": [
      "\u001b[0;31m---------------------------------------------------------------------------\u001b[0m",
      "\u001b[0;31mAttributeError\u001b[0m                            Traceback (most recent call last)",
      "\u001b[0;32m<ipython-input-14-09ff33411ee3>\u001b[0m in \u001b[0;36m<module>\u001b[0;34m\u001b[0m\n\u001b[0;32m----> 1\u001b[0;31m \u001b[0mmodel\u001b[0m\u001b[0;34m.\u001b[0m\u001b[0mload_state_dict\u001b[0m\u001b[0;34m(\u001b[0m\u001b[0mtorch\u001b[0m\u001b[0;34m.\u001b[0m\u001b[0mload\u001b[0m\u001b[0;34m(\u001b[0m\u001b[0;34m\"./test.pt\"\u001b[0m\u001b[0;34m)\u001b[0m\u001b[0;34m)\u001b[0m\u001b[0;34m\u001b[0m\u001b[0;34m\u001b[0m\u001b[0m\n\u001b[0m",
      "\u001b[0;32m~/.pyenv/versions/miniconda3-latest/envs/ml/lib/python3.7/site-packages/torch/nn/modules/module.py\u001b[0m in \u001b[0;36mload_state_dict\u001b[0;34m(self, state_dict, strict)\u001b[0m\n\u001b[1;32m    810\u001b[0m         \u001b[0;31m# copy state_dict so _load_from_state_dict can modify it\u001b[0m\u001b[0;34m\u001b[0m\u001b[0;34m\u001b[0m\u001b[0;34m\u001b[0m\u001b[0m\n\u001b[1;32m    811\u001b[0m         \u001b[0mmetadata\u001b[0m \u001b[0;34m=\u001b[0m \u001b[0mgetattr\u001b[0m\u001b[0;34m(\u001b[0m\u001b[0mstate_dict\u001b[0m\u001b[0;34m,\u001b[0m \u001b[0;34m'_metadata'\u001b[0m\u001b[0;34m,\u001b[0m \u001b[0;32mNone\u001b[0m\u001b[0;34m)\u001b[0m\u001b[0;34m\u001b[0m\u001b[0;34m\u001b[0m\u001b[0m\n\u001b[0;32m--> 812\u001b[0;31m         \u001b[0mstate_dict\u001b[0m \u001b[0;34m=\u001b[0m \u001b[0mstate_dict\u001b[0m\u001b[0;34m.\u001b[0m\u001b[0mcopy\u001b[0m\u001b[0;34m(\u001b[0m\u001b[0;34m)\u001b[0m\u001b[0;34m\u001b[0m\u001b[0;34m\u001b[0m\u001b[0m\n\u001b[0m\u001b[1;32m    813\u001b[0m         \u001b[0;32mif\u001b[0m \u001b[0mmetadata\u001b[0m \u001b[0;32mis\u001b[0m \u001b[0;32mnot\u001b[0m \u001b[0;32mNone\u001b[0m\u001b[0;34m:\u001b[0m\u001b[0;34m\u001b[0m\u001b[0;34m\u001b[0m\u001b[0m\n\u001b[1;32m    814\u001b[0m             \u001b[0mstate_dict\u001b[0m\u001b[0;34m.\u001b[0m\u001b[0m_metadata\u001b[0m \u001b[0;34m=\u001b[0m \u001b[0mmetadata\u001b[0m\u001b[0;34m\u001b[0m\u001b[0;34m\u001b[0m\u001b[0m\n",
      "\u001b[0;31mAttributeError\u001b[0m: 'function' object has no attribute 'copy'"
     ]
    }
   ],
   "source": [
    "model.load_state_dict(torch.load(\"./test.pt\"))"
   ]
  },
  {
   "cell_type": "code",
   "execution_count": 11,
   "metadata": {},
   "outputs": [],
   "source": [
    "torch.save(model.state_dict(), \"../models/spinalvgg.pt\")"
   ]
  },
  {
   "cell_type": "code",
   "execution_count": 12,
   "metadata": {},
   "outputs": [
    {
     "data": {
      "text/plain": [
       "<All keys matched successfully>"
      ]
     },
     "execution_count": 12,
     "metadata": {},
     "output_type": "execute_result"
    }
   ],
   "source": [
    "model = models.SpinalVGG()\n",
    "model.load_state_dict(torch.load(\"../models/spinalvgg.pt\"))"
   ]
  },
  {
   "cell_type": "code",
   "execution_count": 13,
   "metadata": {},
   "outputs": [],
   "source": [
    "model.to(device)\n",
    "df_test = pd.read_csv(config.TEST_CSV)\n",
    "test_dataset = dataset.EMNISTTestDataset(df_test)\n",
    "test_loader = torch.utils.data.DataLoader(test_dataset, batch_size=config.TEST_BATCH_SIZE)"
   ]
  },
  {
   "cell_type": "code",
   "execution_count": 14,
   "metadata": {},
   "outputs": [],
   "source": [
    "predictions = engine.infer(test_loader, model, device)\n",
    "predictions = np.array(predictions)\n",
    "predictions = np.argmax(predictions, axis=1)"
   ]
  },
  {
   "cell_type": "code",
   "execution_count": 15,
   "metadata": {},
   "outputs": [
    {
     "data": {
      "text/html": [
       "<div>\n",
       "<style scoped>\n",
       "    .dataframe tbody tr th:only-of-type {\n",
       "        vertical-align: middle;\n",
       "    }\n",
       "\n",
       "    .dataframe tbody tr th {\n",
       "        vertical-align: top;\n",
       "    }\n",
       "\n",
       "    .dataframe thead th {\n",
       "        text-align: right;\n",
       "    }\n",
       "</style>\n",
       "<table border=\"1\" class=\"dataframe\">\n",
       "  <thead>\n",
       "    <tr style=\"text-align: right;\">\n",
       "      <th></th>\n",
       "      <th>id</th>\n",
       "      <th>digit</th>\n",
       "    </tr>\n",
       "  </thead>\n",
       "  <tbody>\n",
       "    <tr>\n",
       "      <th>0</th>\n",
       "      <td>2049</td>\n",
       "      <td>6</td>\n",
       "    </tr>\n",
       "    <tr>\n",
       "      <th>1</th>\n",
       "      <td>2050</td>\n",
       "      <td>9</td>\n",
       "    </tr>\n",
       "    <tr>\n",
       "      <th>2</th>\n",
       "      <td>2051</td>\n",
       "      <td>8</td>\n",
       "    </tr>\n",
       "    <tr>\n",
       "      <th>3</th>\n",
       "      <td>2052</td>\n",
       "      <td>0</td>\n",
       "    </tr>\n",
       "    <tr>\n",
       "      <th>4</th>\n",
       "      <td>2053</td>\n",
       "      <td>3</td>\n",
       "    </tr>\n",
       "  </tbody>\n",
       "</table>\n",
       "</div>"
      ],
      "text/plain": [
       "     id  digit\n",
       "0  2049      6\n",
       "1  2050      9\n",
       "2  2051      8\n",
       "3  2052      0\n",
       "4  2053      3"
      ]
     },
     "execution_count": 15,
     "metadata": {},
     "output_type": "execute_result"
    }
   ],
   "source": [
    "submission = pd.DataFrame({\"id\": df_test.id, \"digit\": predictions})\n",
    "submission.to_csv(\"../output/spinalvgg.csv\", index=False)\n",
    "submission.head()"
   ]
  },
  {
   "cell_type": "code",
   "execution_count": null,
   "metadata": {},
   "outputs": [],
   "source": []
  }
 ],
 "metadata": {
  "kernelspec": {
   "display_name": "Python [conda env:ml] *",
   "language": "python",
   "name": "conda-env-ml-py"
  },
  "language_info": {
   "codemirror_mode": {
    "name": "ipython",
    "version": 3
   },
   "file_extension": ".py",
   "mimetype": "text/x-python",
   "name": "python",
   "nbconvert_exporter": "python",
   "pygments_lexer": "ipython3",
   "version": "3.7.7"
  }
 },
 "nbformat": 4,
 "nbformat_minor": 4
}
