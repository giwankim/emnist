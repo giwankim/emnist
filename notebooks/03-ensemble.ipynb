{
 "cells": [
  {
   "cell_type": "markdown",
   "metadata": {},
   "source": [
    "# Ensemble"
   ]
  },
  {
   "cell_type": "code",
   "execution_count": 13,
   "metadata": {},
   "outputs": [],
   "source": [
    "%reload_ext autoreload\n",
    "%autoreload 2\n",
    "%matplotlib inline"
   ]
  },
  {
   "cell_type": "code",
   "execution_count": 14,
   "metadata": {},
   "outputs": [],
   "source": [
    "import sys\n",
    "sys.path.insert(0, \"../src\")"
   ]
  },
  {
   "cell_type": "code",
   "execution_count": 15,
   "metadata": {},
   "outputs": [],
   "source": [
    "import gc\n",
    "import pathlib\n",
    "import numpy as np\n",
    "import pandas as pd\n",
    "import matplotlib.pyplot as plt\n",
    "import seaborn as sns\n",
    "sns.set()\n",
    "\n",
    "from sklearn import metrics\n",
    "from sklearn import model_selection\n",
    "from scipy.special import softmax\n",
    "\n",
    "import torch\n",
    "import torchcontrib\n",
    "from torch.optim.swa_utils import AveragedModel, SWALR, update_bn\n",
    "\n",
    "import callbacks\n",
    "import config\n",
    "import dataset\n",
    "import engine\n",
    "import models\n",
    "import utils\n",
    "\n",
    "import warnings\n",
    "warnings.filterwarnings(\"ignore\")"
   ]
  },
  {
   "cell_type": "code",
   "execution_count": 16,
   "metadata": {},
   "outputs": [
    {
     "data": {
      "text/plain": [
       "(20058, 788)"
      ]
     },
     "execution_count": 16,
     "metadata": {},
     "output_type": "execute_result"
    }
   ],
   "source": [
    "# df = pd.read_csv(config.DATA_PATH / \"train.csv\")\n",
    "df = pd.read_csv(config.DATA_PATH / \"pl-spinal-ensemble10.csv\")\n",
    "df.shape"
   ]
  },
  {
   "cell_type": "code",
   "execution_count": 17,
   "metadata": {},
   "outputs": [],
   "source": [
    "nets = 10\n",
    "device = torch.device(config.DEVICE)\n",
    "EPOCHS = 200\n",
    "SEED = 42\n",
    "utils.seed_everything(SEED)"
   ]
  },
  {
   "cell_type": "code",
   "execution_count": 24,
   "metadata": {
    "scrolled": false
   },
   "outputs": [
    {
     "name": "stdout",
     "output_type": "stream",
     "text": [
      "##############################\n",
      "Epoch=0, Accuracy=0.69143\n",
      "Epoch=10, Accuracy=0.93071\n",
      "Epoch=20, Accuracy=0.94417\n",
      "Epoch=30, Accuracy=0.93868\n",
      "Epoch    37: reducing learning rate of group 0 to 5.0000e-03.\n",
      "Epoch=40, Accuracy=0.95414\n",
      "Epoch=50, Accuracy=0.94467\n",
      "Epoch=60, Accuracy=0.94716\n",
      "Epoch    62: reducing learning rate of group 0 to 2.5000e-03.\n",
      "Epoch=70, Accuracy=0.94865\n",
      "Epoch    78: reducing learning rate of group 0 to 1.2500e-03.\n",
      "Epoch=80, Accuracy=0.95065\n",
      "Epoch=90, Accuracy=0.94965\n",
      "Epoch    94: reducing learning rate of group 0 to 6.2500e-04.\n",
      "Epoch=100, Accuracy=0.95065\n",
      "Epoch   110: reducing learning rate of group 0 to 3.1250e-04.\n",
      "Epoch=110, Accuracy=0.95065\n",
      "Epoch=120, Accuracy=0.94915\n",
      "Epoch   126: reducing learning rate of group 0 to 1.5625e-04.\n",
      "Epoch=130, Accuracy=0.95015\n",
      "Epoch=140, Accuracy=0.94865\n",
      "Epoch   142: reducing learning rate of group 0 to 7.8125e-05.\n",
      "Epoch=150, Accuracy=0.94965\n",
      "Epoch=160, Accuracy=0.95065\n",
      "Epoch=170, Accuracy=0.94915\n",
      "Epoch=180, Accuracy=0.95015\n",
      "Epoch=190, Accuracy=0.95115\n",
      "CNN 0, Validation accuracy of SWA model=0.9481555333998006\n",
      "Average CV score=0.9481555333998006\n"
     ]
    }
   ],
   "source": [
    "cnns = [None] * nets\n",
    "valid_scores = []\n",
    "\n",
    "for i in range(nets):\n",
    "    print(\"#\" * 30)\n",
    "    # DATA\n",
    "    train_indices, valid_indices = model_selection.train_test_split(np.arange(len(df)), test_size=0.1, shuffle=True, stratify=df.digit)\n",
    "    train_dataset = dataset.EMNISTDataset(df, train_indices)\n",
    "    valid_dataset = dataset.EMNISTDataset(df, valid_indices)\n",
    "    train_loader = torch.utils.data.DataLoader(train_dataset, batch_size=config.TRAIN_BATCH_SIZE, shuffle=True)\n",
    "    valid_loader = torch.utils.data.DataLoader(valid_dataset, batch_size=config.TEST_BATCH_SIZE)\n",
    "    \n",
    "    # MODEL\n",
    "    model = models.SpinalVGG().to(device)\n",
    "    \n",
    "    # OPTIMIZER\n",
    "    optimizer = torch.optim.Adam(model.parameters(), lr=1e-2)\n",
    "    # SCHEDULER\n",
    "    scheduler = torch.optim.lr_scheduler.ReduceLROnPlateau(\n",
    "        optimizer, mode='max', verbose=True, patience=10, factor=0.5,\n",
    "    )\n",
    "#     scheduler = torch.optim.lr_scheduler.CosineAnnealingLR(optimizer, T_max=EPOCHS)\n",
    "\n",
    "    # STOCHASTIC WEIGHT AVERAGING\n",
    "    swa_start = int(EPOCHS * 0.75)\n",
    "    swa_scheduler = SWALR(\n",
    "        optimizer, anneal_strategy=\"cos\", anneal_epochs=swa_start, swa_lr=5e-4\n",
    "    )\n",
    "    swa_model = AveragedModel(model)\n",
    "    swa_model.to(device)\n",
    "\n",
    "    # AMP\n",
    "    scaler = torch.cuda.amp.GradScaler()\n",
    "        \n",
    "    # Loop\n",
    "    for epoch in range(EPOCHS):\n",
    "        # TRAIN ONE EPOCH\n",
    "        engine.train(train_loader, model, optimizer, device, scaler)\n",
    "\n",
    "        # VALIDATION\n",
    "        predictions, targets = engine.evaluate(valid_loader, model, device)\n",
    "        predictions = np.argmax(predictions, axis=1)\n",
    "        accuracy = metrics.accuracy_score(targets, predictions)\n",
    "        if epoch % 10 == 0:\n",
    "            print(f\"Epoch={epoch}, Accuracy={accuracy:.5f}\")\n",
    "\n",
    "        if epoch > swa_start:\n",
    "            swa_model.update_parameters(model)\n",
    "            swa_scheduler.step()\n",
    "        else:\n",
    "            scheduler.step(accuracy)\n",
    "\n",
    "    # Warmup BN-layers\n",
    "    swa_model = swa_model.cpu()\n",
    "    update_bn(train_loader, swa_model)\n",
    "    swa_model.to(device)\n",
    "\n",
    "    # CV Score for SWA model\n",
    "    valid_preds, valid_targs = engine.evaluate(valid_loader, swa_model, device)\n",
    "    valid_predsb = np.argmax(valid_preds, axis=1)\n",
    "    \n",
    "    valid_accuracy = metrics.accuracy_score(valid_targs, valid_predsb)\n",
    "    valid_scores.append(valid_accuracy)\n",
    "    print(f\"CNN {i}, Validation accuracy of SWA model={valid_accuracy}\")\n",
    "    \n",
    "    cnns[i] = swa_model\n",
    "\n",
    "    # CLEAN-UP\n",
    "    del model, swa_model\n",
    "    torch.cuda.empty_cache()\n",
    "    gc.collect()\n",
    "    \n",
    "    break\n",
    "\n",
    "print(f\"Average CV score={np.mean(valid_scores)}\")"
   ]
  },
  {
   "cell_type": "markdown",
   "metadata": {},
   "source": [
    "## PL"
   ]
  },
  {
   "cell_type": "code",
   "execution_count": 30,
   "metadata": {},
   "outputs": [],
   "source": [
    "df_test = pd.read_csv(config.TEST_CSV)\n",
    "test_dataset = dataset.EMNISTDataset(df_test, np.arange(len(df_test)), label=False)\n",
    "test_loader = torch.utils.data.DataLoader(test_dataset, batch_size=config.TEST_BATCH_SIZE)"
   ]
  },
  {
   "cell_type": "code",
   "execution_count": 31,
   "metadata": {},
   "outputs": [],
   "source": [
    "# BLENDED SOFTMAX OF MODELS\n",
    "preds = np.zeros((len(df_test), 10))\n",
    "for model in cnns:\n",
    "    preds += engine.evaluate(test_loader, model, device, target=False)\n",
    "probs = softmax(preds, axis=1)\n",
    "probs = np.max(probs, axis=1)\n",
    "digits = np.argmax(preds, axis=1)"
   ]
  },
  {
   "cell_type": "code",
   "execution_count": 32,
   "metadata": {},
   "outputs": [
    {
     "data": {
      "text/html": [
       "<div>\n",
       "<style scoped>\n",
       "    .dataframe tbody tr th:only-of-type {\n",
       "        vertical-align: middle;\n",
       "    }\n",
       "\n",
       "    .dataframe tbody tr th {\n",
       "        vertical-align: top;\n",
       "    }\n",
       "\n",
       "    .dataframe thead th {\n",
       "        text-align: right;\n",
       "    }\n",
       "</style>\n",
       "<table border=\"1\" class=\"dataframe\">\n",
       "  <thead>\n",
       "    <tr style=\"text-align: right;\">\n",
       "      <th></th>\n",
       "      <th>id</th>\n",
       "      <th>letter</th>\n",
       "      <th>0</th>\n",
       "      <th>1</th>\n",
       "      <th>2</th>\n",
       "      <th>3</th>\n",
       "      <th>4</th>\n",
       "      <th>5</th>\n",
       "      <th>6</th>\n",
       "      <th>7</th>\n",
       "      <th>...</th>\n",
       "      <th>776</th>\n",
       "      <th>777</th>\n",
       "      <th>778</th>\n",
       "      <th>779</th>\n",
       "      <th>780</th>\n",
       "      <th>781</th>\n",
       "      <th>782</th>\n",
       "      <th>783</th>\n",
       "      <th>digit</th>\n",
       "      <th>prob</th>\n",
       "    </tr>\n",
       "  </thead>\n",
       "  <tbody>\n",
       "    <tr>\n",
       "      <th>0</th>\n",
       "      <td>2049</td>\n",
       "      <td>L</td>\n",
       "      <td>0</td>\n",
       "      <td>4</td>\n",
       "      <td>0</td>\n",
       "      <td>2</td>\n",
       "      <td>4</td>\n",
       "      <td>2</td>\n",
       "      <td>3</td>\n",
       "      <td>1</td>\n",
       "      <td>...</td>\n",
       "      <td>4</td>\n",
       "      <td>2</td>\n",
       "      <td>2</td>\n",
       "      <td>4</td>\n",
       "      <td>3</td>\n",
       "      <td>4</td>\n",
       "      <td>1</td>\n",
       "      <td>4</td>\n",
       "      <td>6</td>\n",
       "      <td>1.0</td>\n",
       "    </tr>\n",
       "    <tr>\n",
       "      <th>1</th>\n",
       "      <td>2050</td>\n",
       "      <td>C</td>\n",
       "      <td>4</td>\n",
       "      <td>1</td>\n",
       "      <td>4</td>\n",
       "      <td>0</td>\n",
       "      <td>1</td>\n",
       "      <td>1</td>\n",
       "      <td>0</td>\n",
       "      <td>2</td>\n",
       "      <td>...</td>\n",
       "      <td>2</td>\n",
       "      <td>4</td>\n",
       "      <td>2</td>\n",
       "      <td>4</td>\n",
       "      <td>2</td>\n",
       "      <td>2</td>\n",
       "      <td>1</td>\n",
       "      <td>2</td>\n",
       "      <td>9</td>\n",
       "      <td>1.0</td>\n",
       "    </tr>\n",
       "    <tr>\n",
       "      <th>2</th>\n",
       "      <td>2051</td>\n",
       "      <td>S</td>\n",
       "      <td>0</td>\n",
       "      <td>4</td>\n",
       "      <td>0</td>\n",
       "      <td>1</td>\n",
       "      <td>3</td>\n",
       "      <td>2</td>\n",
       "      <td>3</td>\n",
       "      <td>0</td>\n",
       "      <td>...</td>\n",
       "      <td>2</td>\n",
       "      <td>0</td>\n",
       "      <td>3</td>\n",
       "      <td>2</td>\n",
       "      <td>3</td>\n",
       "      <td>0</td>\n",
       "      <td>1</td>\n",
       "      <td>4</td>\n",
       "      <td>8</td>\n",
       "      <td>1.0</td>\n",
       "    </tr>\n",
       "    <tr>\n",
       "      <th>3</th>\n",
       "      <td>2052</td>\n",
       "      <td>K</td>\n",
       "      <td>2</td>\n",
       "      <td>1</td>\n",
       "      <td>3</td>\n",
       "      <td>3</td>\n",
       "      <td>3</td>\n",
       "      <td>4</td>\n",
       "      <td>3</td>\n",
       "      <td>0</td>\n",
       "      <td>...</td>\n",
       "      <td>3</td>\n",
       "      <td>2</td>\n",
       "      <td>4</td>\n",
       "      <td>1</td>\n",
       "      <td>0</td>\n",
       "      <td>4</td>\n",
       "      <td>4</td>\n",
       "      <td>4</td>\n",
       "      <td>0</td>\n",
       "      <td>1.0</td>\n",
       "    </tr>\n",
       "    <tr>\n",
       "      <th>4</th>\n",
       "      <td>2053</td>\n",
       "      <td>W</td>\n",
       "      <td>1</td>\n",
       "      <td>0</td>\n",
       "      <td>1</td>\n",
       "      <td>1</td>\n",
       "      <td>2</td>\n",
       "      <td>2</td>\n",
       "      <td>1</td>\n",
       "      <td>4</td>\n",
       "      <td>...</td>\n",
       "      <td>1</td>\n",
       "      <td>4</td>\n",
       "      <td>0</td>\n",
       "      <td>2</td>\n",
       "      <td>1</td>\n",
       "      <td>2</td>\n",
       "      <td>3</td>\n",
       "      <td>4</td>\n",
       "      <td>3</td>\n",
       "      <td>1.0</td>\n",
       "    </tr>\n",
       "  </tbody>\n",
       "</table>\n",
       "<p>5 rows × 788 columns</p>\n",
       "</div>"
      ],
      "text/plain": [
       "     id letter  0  1  2  3  4  5  6  7  ...  776  777  778  779  780  781  \\\n",
       "0  2049      L  0  4  0  2  4  2  3  1  ...    4    2    2    4    3    4   \n",
       "1  2050      C  4  1  4  0  1  1  0  2  ...    2    4    2    4    2    2   \n",
       "2  2051      S  0  4  0  1  3  2  3  0  ...    2    0    3    2    3    0   \n",
       "3  2052      K  2  1  3  3  3  4  3  0  ...    3    2    4    1    0    4   \n",
       "4  2053      W  1  0  1  1  2  2  1  4  ...    1    4    0    2    1    2   \n",
       "\n",
       "   782  783  digit  prob  \n",
       "0    1    4      6   1.0  \n",
       "1    1    2      9   1.0  \n",
       "2    1    4      8   1.0  \n",
       "3    4    4      0   1.0  \n",
       "4    3    4      3   1.0  \n",
       "\n",
       "[5 rows x 788 columns]"
      ]
     },
     "execution_count": 32,
     "metadata": {},
     "output_type": "execute_result"
    }
   ],
   "source": [
    "pl = df_test.copy()\n",
    "pl[\"digit\"] = digits\n",
    "pl[\"prob\"] = probs\n",
    "pl.head()"
   ]
  },
  {
   "cell_type": "code",
   "execution_count": 35,
   "metadata": {},
   "outputs": [
    {
     "name": "stdout",
     "output_type": "stream",
     "text": [
      "20058/20480\n"
     ]
    }
   ],
   "source": [
    "pl = pl[pl.prob > 0.995]\n",
    "print(f\"{len(pl)}/{len(df_test)}\")"
   ]
  },
  {
   "cell_type": "code",
   "execution_count": 36,
   "metadata": {},
   "outputs": [],
   "source": [
    "pl.to_csv(config.DATA_PATH / f\"pl-spinal-ensemble{nets}.csv\", index=False)"
   ]
  },
  {
   "cell_type": "markdown",
   "metadata": {},
   "source": [
    "## Inference"
   ]
  },
  {
   "cell_type": "code",
   "execution_count": 37,
   "metadata": {},
   "outputs": [
    {
     "data": {
      "text/html": [
       "<div>\n",
       "<style scoped>\n",
       "    .dataframe tbody tr th:only-of-type {\n",
       "        vertical-align: middle;\n",
       "    }\n",
       "\n",
       "    .dataframe tbody tr th {\n",
       "        vertical-align: top;\n",
       "    }\n",
       "\n",
       "    .dataframe thead th {\n",
       "        text-align: right;\n",
       "    }\n",
       "</style>\n",
       "<table border=\"1\" class=\"dataframe\">\n",
       "  <thead>\n",
       "    <tr style=\"text-align: right;\">\n",
       "      <th></th>\n",
       "      <th>id</th>\n",
       "      <th>digit</th>\n",
       "    </tr>\n",
       "  </thead>\n",
       "  <tbody>\n",
       "    <tr>\n",
       "      <th>0</th>\n",
       "      <td>2049</td>\n",
       "      <td>6</td>\n",
       "    </tr>\n",
       "    <tr>\n",
       "      <th>1</th>\n",
       "      <td>2050</td>\n",
       "      <td>9</td>\n",
       "    </tr>\n",
       "    <tr>\n",
       "      <th>2</th>\n",
       "      <td>2051</td>\n",
       "      <td>8</td>\n",
       "    </tr>\n",
       "    <tr>\n",
       "      <th>3</th>\n",
       "      <td>2052</td>\n",
       "      <td>0</td>\n",
       "    </tr>\n",
       "    <tr>\n",
       "      <th>4</th>\n",
       "      <td>2053</td>\n",
       "      <td>3</td>\n",
       "    </tr>\n",
       "  </tbody>\n",
       "</table>\n",
       "</div>"
      ],
      "text/plain": [
       "     id  digit\n",
       "0  2049      6\n",
       "1  2050      9\n",
       "2  2051      8\n",
       "3  2052      0\n",
       "4  2053      3"
      ]
     },
     "execution_count": 37,
     "metadata": {},
     "output_type": "execute_result"
    }
   ],
   "source": [
    "submission = pd.DataFrame({\"id\": df_test.id, \"digit\": digits})\n",
    "submission.to_csv(f\"../output/spinal-ensemble{nets}.csv\", index=False)\n",
    "submission.head()"
   ]
  },
  {
   "cell_type": "code",
   "execution_count": 39,
   "metadata": {},
   "outputs": [
    {
     "data": {
      "image/png": "[encoded data removed]",
      "text/plain": [
       "<Figure size 432x288 with 1 Axes>"
      ]
     },
     "metadata": {},
     "output_type": "display_data"
    }
   ],
   "source": [
    "sns.countplot(submission.digit);"
   ]
  },
  {
   "cell_type": "code",
   "execution_count": null,
   "metadata": {},
   "outputs": [],
   "source": []
  },
  {
   "cell_type": "code",
   "execution_count": null,
   "metadata": {},
   "outputs": [],
   "source": []
  },
  {
   "cell_type": "code",
   "execution_count": null,
   "metadata": {},
   "outputs": [],
   "source": []
  },
  {
   "cell_type": "code",
   "execution_count": null,
   "metadata": {},
   "outputs": [],
   "source": []
  }
 ],
 "metadata": {
  "kernelspec": {
   "display_name": "Python [conda env:ml] *",
   "language": "python",
   "name": "conda-env-ml-py"
  },
  "language_info": {
   "codemirror_mode": {
    "name": "ipython",
    "version": 3
   },
   "file_extension": ".py",
   "mimetype": "text/x-python",
   "name": "python",
   "nbconvert_exporter": "python",
   "pygments_lexer": "ipython3",
   "version": "3.7.7"
  }
 },
 "nbformat": 4,
 "nbformat_minor": 4
}
