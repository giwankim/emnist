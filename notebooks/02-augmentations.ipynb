{
 "cells": [
  {
   "cell_type": "markdown",
   "metadata": {},
   "source": [
    "# Augmentations"
   ]
  },
  {
   "cell_type": "code",
   "execution_count": 1,
   "metadata": {},
   "outputs": [],
   "source": [
    "%reload_ext autoreload\n",
    "%autoreload 2\n",
    "%matplotlib inline"
   ]
  },
  {
   "cell_type": "code",
   "execution_count": 2,
   "metadata": {},
   "outputs": [],
   "source": [
    "import sys\n",
    "sys.path.insert(0, \"../src\")"
   ]
  },
  {
   "cell_type": "code",
   "execution_count": 3,
   "metadata": {},
   "outputs": [],
   "source": [
    "import numpy as np\n",
    "import pandas as pd\n",
    "import matplotlib.pyplot as plt\n",
    "\n",
    "import albumentations\n",
    "\n",
    "from sklearn import metrics\n",
    "from sklearn import model_selection\n",
    "\n",
    "import torch\n",
    "import torch.nn as nn\n",
    "import torch.nn.functional as F\n",
    "\n",
    "import config\n",
    "import dataset\n",
    "import engine\n",
    "import models"
   ]
  },
  {
   "cell_type": "code",
   "execution_count": 4,
   "metadata": {},
   "outputs": [],
   "source": [
    "df = pd.read_csv(config.TRAIN_CSV)"
   ]
  },
  {
   "cell_type": "code",
   "execution_count": 5,
   "metadata": {},
   "outputs": [],
   "source": [
    "augs = albumentations.Compose(\n",
    "    [\n",
    "        albumentations.ShiftScaleRotate(\n",
    "            shift_limit=0.0625,\n",
    "            scale_limit=0.1,\n",
    "            rotate_limit=10,\n",
    "            p=0.9,\n",
    "        ),\n",
    "        albumentations.Normalize(config.MEAN, config.STD, max_pixel_value=255.0, always_apply=True),\n",
    "    ]\n",
    ")"
   ]
  },
  {
   "cell_type": "code",
   "execution_count": 6,
   "metadata": {},
   "outputs": [],
   "source": [
    "images = df[config.PIXEL_COLS].values.reshape(-1, 28, 28)"
   ]
  },
  {
   "cell_type": "code",
   "execution_count": 7,
   "metadata": {},
   "outputs": [
    {
     "data": {
      "text/plain": [
       "(0.14296817848233043, 0.2537516572364304)"
      ]
     },
     "execution_count": 7,
     "metadata": {},
     "output_type": "execute_result"
    }
   ],
   "source": [
    "np.mean(images / 255.0), np.std(images / 255.0)"
   ]
  },
  {
   "cell_type": "code",
   "execution_count": 8,
   "metadata": {},
   "outputs": [],
   "source": [
    "idx = 5\n",
    "image = images[idx]\n",
    "image = image.astype(np.uint8)\n",
    "# image = Image.fromarray(image)\n",
    "# image = image.convert(\"RGB\")"
   ]
  },
  {
   "cell_type": "code",
   "execution_count": 9,
   "metadata": {},
   "outputs": [
    {
     "data": {
      "image/png": "[encoded data removed]",
      "text/plain": [
       "<Figure size 432x288 with 1 Axes>"
      ]
     },
     "metadata": {
      "needs_background": "light"
     },
     "output_type": "display_data"
    }
   ],
   "source": [
    "plt.imshow(image);"
   ]
  },
  {
   "cell_type": "code",
   "execution_count": 10,
   "metadata": {},
   "outputs": [
    {
     "data": {
      "image/png": "[encoded data removed]",
      "text/plain": [
       "<Figure size 432x288 with 1 Axes>"
      ]
     },
     "metadata": {
      "needs_background": "light"
     },
     "output_type": "display_data"
    }
   ],
   "source": [
    "augmented = augs(image=image)\n",
    "aug_image = augmented[\"image\"]\n",
    "plt.imshow(aug_image);"
   ]
  },
  {
   "cell_type": "markdown",
   "metadata": {},
   "source": [
    "## Train"
   ]
  },
  {
   "cell_type": "code",
   "execution_count": 11,
   "metadata": {},
   "outputs": [],
   "source": [
    "device = torch.device(config.DEVICE)"
   ]
  },
  {
   "cell_type": "code",
   "execution_count": 12,
   "metadata": {},
   "outputs": [],
   "source": [
    "df_train, df_valid = model_selection.train_test_split(df, test_size=0.1, stratify=df.digit)\n",
    "train_loader = dataset.get_dataloader(df_train, augs=augs)\n",
    "valid_loader = dataset.get_dataloader(df_valid, train=False)"
   ]
  },
  {
   "cell_type": "code",
   "execution_count": 13,
   "metadata": {},
   "outputs": [
    {
     "data": {
      "text/plain": [
       "Model(\n",
       "  (conv1): Conv2d(1, 32, kernel_size=(3, 3), stride=(1, 1))\n",
       "  (bn1): BatchNorm2d(32, eps=1e-05, momentum=0.1, affine=True, track_running_stats=True)\n",
       "  (conv2): Conv2d(32, 32, kernel_size=(5, 5), stride=(1, 1))\n",
       "  (bn2): BatchNorm2d(32, eps=1e-05, momentum=0.1, affine=True, track_running_stats=True)\n",
       "  (conv3): Conv2d(32, 32, kernel_size=(5, 5), stride=(2, 2), padding=(13, 13))\n",
       "  (bn3): BatchNorm2d(32, eps=1e-05, momentum=0.1, affine=True, track_running_stats=True)\n",
       "  (conv2_1): Conv2d(32, 64, kernel_size=(3, 3), stride=(1, 1))\n",
       "  (bn2_1): BatchNorm2d(64, eps=1e-05, momentum=0.1, affine=True, track_running_stats=True)\n",
       "  (conv2_2): Conv2d(64, 64, kernel_size=(3, 3), stride=(1, 1))\n",
       "  (bn2_2): BatchNorm2d(64, eps=1e-05, momentum=0.1, affine=True, track_running_stats=True)\n",
       "  (conv2_3): Conv2d(64, 64, kernel_size=(5, 5), stride=(2, 2), padding=(11, 11))\n",
       "  (bn2_3): BatchNorm2d(64, eps=1e-05, momentum=0.1, affine=True, track_running_stats=True)\n",
       "  (conv3_1): Conv2d(64, 128, kernel_size=(4, 4), stride=(1, 1))\n",
       "  (bn3_1): BatchNorm2d(128, eps=1e-05, momentum=0.1, affine=True, track_running_stats=True)\n",
       "  (out1): Linear(in_features=28800, out_features=10, bias=True)\n",
       "  (out2): Linear(in_features=28800, out_features=26, bias=True)\n",
       ")"
      ]
     },
     "execution_count": 13,
     "metadata": {},
     "output_type": "execute_result"
    }
   ],
   "source": [
    "model = models.Model()\n",
    "model.to(device)"
   ]
  },
  {
   "cell_type": "code",
   "execution_count": 43,
   "metadata": {},
   "outputs": [],
   "source": [
    "optimizer = torch.optim.Adam(model.parameters())\n",
    "# scheduler = torch.optim.lr_scheduler.LambdaLR(optimizer, lr_lambda=lambda x: 1e-3 * 0.95 ** x)"
   ]
  },
  {
   "cell_type": "code",
   "execution_count": 44,
   "metadata": {
    "scrolled": false
   },
   "outputs": [
    {
     "name": "stdout",
     "output_type": "stream",
     "text": [
      "Epoch: 0, Accuracy=0.3170731707317073\n",
      "Epoch: 1, Accuracy=0.43414634146341463\n",
      "Epoch: 2, Accuracy=0.4634146341463415\n",
      "Epoch: 3, Accuracy=0.5317073170731708\n",
      "Epoch: 4, Accuracy=0.4878048780487805\n",
      "Epoch: 5, Accuracy=0.5121951219512195\n",
      "Epoch: 6, Accuracy=0.5804878048780487\n",
      "Epoch: 7, Accuracy=0.6146341463414634\n",
      "Epoch: 8, Accuracy=0.5219512195121951\n",
      "Epoch: 9, Accuracy=0.5707317073170731\n",
      "Epoch: 10, Accuracy=0.6292682926829268\n",
      "Epoch: 11, Accuracy=0.6731707317073171\n",
      "Epoch: 12, Accuracy=0.6731707317073171\n",
      "Epoch: 13, Accuracy=0.6341463414634146\n",
      "Epoch: 14, Accuracy=0.6926829268292682\n",
      "Epoch: 15, Accuracy=0.6682926829268293\n",
      "Epoch: 16, Accuracy=0.7170731707317073\n",
      "Epoch: 17, Accuracy=0.6926829268292682\n",
      "Epoch: 18, Accuracy=0.6634146341463415\n",
      "Epoch: 19, Accuracy=0.7268292682926829\n",
      "Epoch: 20, Accuracy=0.6731707317073171\n",
      "Epoch: 21, Accuracy=0.7365853658536585\n",
      "Epoch: 22, Accuracy=0.6439024390243903\n",
      "Epoch: 23, Accuracy=0.7853658536585366\n",
      "Epoch: 24, Accuracy=0.7804878048780488\n",
      "Epoch: 25, Accuracy=0.7024390243902439\n",
      "Epoch: 26, Accuracy=0.7414634146341463\n",
      "Epoch: 27, Accuracy=0.7609756097560976\n",
      "Epoch: 28, Accuracy=0.7658536585365854\n",
      "Epoch: 29, Accuracy=0.7268292682926829\n",
      "Epoch: 30, Accuracy=0.751219512195122\n",
      "Epoch: 31, Accuracy=0.7853658536585366\n",
      "Epoch: 32, Accuracy=0.7463414634146341\n",
      "Epoch: 33, Accuracy=0.751219512195122\n",
      "Epoch: 34, Accuracy=0.775609756097561\n",
      "Epoch: 35, Accuracy=0.775609756097561\n",
      "Epoch: 36, Accuracy=0.7609756097560976\n",
      "Epoch: 37, Accuracy=0.7365853658536585\n",
      "Epoch: 38, Accuracy=0.7219512195121951\n",
      "Best Epoch: 23, Best Accuracy=0.7853658536585366\n"
     ]
    }
   ],
   "source": [
    "best_epoch = 0\n",
    "best_accuracy = 0\n",
    "early_stopping_counter = 0\n",
    "\n",
    "for epoch in range(config.EPOCHS):\n",
    "    engine.train(train_loader, model, optimizer, device)\n",
    "    predictions, targets = engine.evaluate(valid_loader, model, device)\n",
    "#     scheduler.step()\n",
    "\n",
    "    predictions = np.array(predictions)\n",
    "    predictions = np.argmax(predictions, axis=1)\n",
    "    accuracy = metrics.accuracy_score(targets, predictions)\n",
    "    \n",
    "    if best_accuracy < accuracy:\n",
    "        best_accuracy = accuracy\n",
    "        best_epoch = epoch\n",
    "        early_stopping_counter = 0\n",
    "    else:\n",
    "        early_stopping_counter += 1\n",
    "    if early_stopping_counter > config.PATIENCE:\n",
    "        break\n",
    "\n",
    "    print(f\"Epoch: {epoch}, Accuracy={accuracy}\")\n",
    "    \n",
    "print(f\"Best Epoch: {best_epoch}, Best Accuracy={best_accuracy}\")"
   ]
  },
  {
   "cell_type": "code",
   "execution_count": 16,
   "metadata": {},
   "outputs": [],
   "source": [
    "torch.save(model.state_dict(), \"../models/normalize.pt\")"
   ]
  },
  {
   "cell_type": "markdown",
   "metadata": {},
   "source": [
    "## Inference"
   ]
  },
  {
   "cell_type": "code",
   "execution_count": 17,
   "metadata": {},
   "outputs": [
    {
     "data": {
      "text/plain": [
       "<All keys matched successfully>"
      ]
     },
     "execution_count": 17,
     "metadata": {},
     "output_type": "execute_result"
    }
   ],
   "source": [
    "model = models.Model()\n",
    "model.load_state_dict(torch.load(\"../models/normalize.pt\"))"
   ]
  },
  {
   "cell_type": "code",
   "execution_count": 18,
   "metadata": {},
   "outputs": [
    {
     "data": {
      "text/plain": [
       "Model(\n",
       "  (conv1): Conv2d(1, 32, kernel_size=(3, 3), stride=(1, 1))\n",
       "  (bn1): BatchNorm2d(32, eps=1e-05, momentum=0.1, affine=True, track_running_stats=True)\n",
       "  (conv2): Conv2d(32, 32, kernel_size=(5, 5), stride=(1, 1))\n",
       "  (bn2): BatchNorm2d(32, eps=1e-05, momentum=0.1, affine=True, track_running_stats=True)\n",
       "  (conv3): Conv2d(32, 32, kernel_size=(5, 5), stride=(2, 2), padding=(13, 13))\n",
       "  (bn3): BatchNorm2d(32, eps=1e-05, momentum=0.1, affine=True, track_running_stats=True)\n",
       "  (conv2_1): Conv2d(32, 64, kernel_size=(3, 3), stride=(1, 1))\n",
       "  (bn2_1): BatchNorm2d(64, eps=1e-05, momentum=0.1, affine=True, track_running_stats=True)\n",
       "  (conv2_2): Conv2d(64, 64, kernel_size=(3, 3), stride=(1, 1))\n",
       "  (bn2_2): BatchNorm2d(64, eps=1e-05, momentum=0.1, affine=True, track_running_stats=True)\n",
       "  (conv2_3): Conv2d(64, 64, kernel_size=(5, 5), stride=(2, 2), padding=(11, 11))\n",
       "  (bn2_3): BatchNorm2d(64, eps=1e-05, momentum=0.1, affine=True, track_running_stats=True)\n",
       "  (conv3_1): Conv2d(64, 128, kernel_size=(4, 4), stride=(1, 1))\n",
       "  (bn3_1): BatchNorm2d(128, eps=1e-05, momentum=0.1, affine=True, track_running_stats=True)\n",
       "  (out1): Linear(in_features=28800, out_features=10, bias=True)\n",
       "  (out2): Linear(in_features=28800, out_features=26, bias=True)\n",
       ")"
      ]
     },
     "execution_count": 18,
     "metadata": {},
     "output_type": "execute_result"
    }
   ],
   "source": [
    "model.to(device)"
   ]
  },
  {
   "cell_type": "code",
   "execution_count": 19,
   "metadata": {},
   "outputs": [],
   "source": [
    "df_test = pd.read_csv(config.TEST_CSV)\n",
    "test_dataset = dataset.InferenceEMNISTDataset(df_test)\n",
    "test_loader = torch.utils.data.DataLoader(test_dataset, batch_size=config.TEST_BATCH_SIZE)"
   ]
  },
  {
   "cell_type": "code",
   "execution_count": 49,
   "metadata": {},
   "outputs": [],
   "source": [
    "predictions = engine.infer(test_loader, model, device)\n",
    "predictions = np.array(predictions)\n",
    "predictions = np.argmax(predictions, axis=1)"
   ]
  },
  {
   "cell_type": "code",
   "execution_count": 50,
   "metadata": {},
   "outputs": [
    {
     "data": {
      "text/html": [
       "<div>\n",
       "<style scoped>\n",
       "    .dataframe tbody tr th:only-of-type {\n",
       "        vertical-align: middle;\n",
       "    }\n",
       "\n",
       "    .dataframe tbody tr th {\n",
       "        vertical-align: top;\n",
       "    }\n",
       "\n",
       "    .dataframe thead th {\n",
       "        text-align: right;\n",
       "    }\n",
       "</style>\n",
       "<table border=\"1\" class=\"dataframe\">\n",
       "  <thead>\n",
       "    <tr style=\"text-align: right;\">\n",
       "      <th></th>\n",
       "      <th>id</th>\n",
       "      <th>digit</th>\n",
       "    </tr>\n",
       "  </thead>\n",
       "  <tbody>\n",
       "    <tr>\n",
       "      <th>0</th>\n",
       "      <td>2049</td>\n",
       "      <td>6</td>\n",
       "    </tr>\n",
       "    <tr>\n",
       "      <th>1</th>\n",
       "      <td>2050</td>\n",
       "      <td>9</td>\n",
       "    </tr>\n",
       "    <tr>\n",
       "      <th>2</th>\n",
       "      <td>2051</td>\n",
       "      <td>8</td>\n",
       "    </tr>\n",
       "    <tr>\n",
       "      <th>3</th>\n",
       "      <td>2052</td>\n",
       "      <td>0</td>\n",
       "    </tr>\n",
       "    <tr>\n",
       "      <th>4</th>\n",
       "      <td>2053</td>\n",
       "      <td>3</td>\n",
       "    </tr>\n",
       "  </tbody>\n",
       "</table>\n",
       "</div>"
      ],
      "text/plain": [
       "     id  digit\n",
       "0  2049      6\n",
       "1  2050      9\n",
       "2  2051      8\n",
       "3  2052      0\n",
       "4  2053      3"
      ]
     },
     "execution_count": 50,
     "metadata": {},
     "output_type": "execute_result"
    }
   ],
   "source": [
    "submission = pd.DataFrame({\"id\": df_test.id, \"digit\": predictions})\n",
    "submission.to_csv(\"../output/early_stopping.csv\", index=False)\n",
    "submission.head()"
   ]
  },
  {
   "cell_type": "code",
   "execution_count": null,
   "metadata": {},
   "outputs": [],
   "source": []
  },
  {
   "cell_type": "code",
   "execution_count": null,
   "metadata": {},
   "outputs": [],
   "source": []
  },
  {
   "cell_type": "code",
   "execution_count": null,
   "metadata": {},
   "outputs": [],
   "source": []
  },
  {
   "cell_type": "code",
   "execution_count": null,
   "metadata": {},
   "outputs": [],
   "source": []
  },
  {
   "cell_type": "code",
   "execution_count": null,
   "metadata": {},
   "outputs": [],
   "source": []
  },
  {
   "cell_type": "code",
   "execution_count": null,
   "metadata": {},
   "outputs": [],
   "source": []
  },
  {
   "cell_type": "code",
   "execution_count": null,
   "metadata": {},
   "outputs": [],
   "source": []
  },
  {
   "cell_type": "code",
   "execution_count": null,
   "metadata": {},
   "outputs": [],
   "source": []
  },
  {
   "cell_type": "code",
   "execution_count": null,
   "metadata": {},
   "outputs": [],
   "source": []
  },
  {
   "cell_type": "code",
   "execution_count": null,
   "metadata": {},
   "outputs": [],
   "source": []
  },
  {
   "cell_type": "code",
   "execution_count": null,
   "metadata": {},
   "outputs": [],
   "source": []
  },
  {
   "cell_type": "code",
   "execution_count": null,
   "metadata": {},
   "outputs": [],
   "source": []
  },
  {
   "cell_type": "code",
   "execution_count": null,
   "metadata": {},
   "outputs": [],
   "source": []
  },
  {
   "cell_type": "code",
   "execution_count": null,
   "metadata": {},
   "outputs": [],
   "source": []
  },
  {
   "cell_type": "code",
   "execution_count": null,
   "metadata": {},
   "outputs": [],
   "source": []
  }
 ],
 "metadata": {
  "kernelspec": {
   "display_name": "Python [conda env:ml] *",
   "language": "python",
   "name": "conda-env-ml-py"
  },
  "language_info": {
   "codemirror_mode": {
    "name": "ipython",
    "version": 3
   },
   "file_extension": ".py",
   "mimetype": "text/x-python",
   "name": "python",
   "nbconvert_exporter": "python",
   "pygments_lexer": "ipython3",
   "version": "3.7.7"
  }
 },
 "nbformat": 4,
 "nbformat_minor": 4
}
