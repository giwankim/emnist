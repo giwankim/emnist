{
 "cells": [
  {
   "cell_type": "markdown",
   "metadata": {},
   "source": [
    "# Augmentations"
   ]
  },
  {
   "cell_type": "code",
   "execution_count": 3,
   "metadata": {},
   "outputs": [],
   "source": [
    "%reload_ext autoreload\n",
    "%autoreload 2\n",
    "%matplotlib inline"
   ]
  },
  {
   "cell_type": "code",
   "execution_count": 4,
   "metadata": {},
   "outputs": [],
   "source": [
    "import sys\n",
    "sys.path.insert(0, \"../src\")"
   ]
  },
  {
   "cell_type": "code",
   "execution_count": 52,
   "metadata": {},
   "outputs": [],
   "source": [
    "import numpy as np\n",
    "import pandas as pd\n",
    "import matplotlib.pyplot as plt\n",
    "\n",
    "import albumentations as A\n",
    "\n",
    "from sklearn import metrics\n",
    "from sklearn import model_selection\n",
    "\n",
    "import torch\n",
    "import torch.nn as nn\n",
    "import torch.nn.functional as F\n",
    "\n",
    "import config\n",
    "import dataset\n",
    "import engine\n",
    "import models"
   ]
  },
  {
   "cell_type": "code",
   "execution_count": 53,
   "metadata": {},
   "outputs": [],
   "source": [
    "df = pd.read_csv(config.TRAIN_CSV)"
   ]
  },
  {
   "cell_type": "code",
   "execution_count": 54,
   "metadata": {},
   "outputs": [],
   "source": [
    "images = df[config.PIXEL_COLS].values.reshape(-1, 28, 28)"
   ]
  },
  {
   "cell_type": "code",
   "execution_count": 55,
   "metadata": {},
   "outputs": [
    {
     "data": {
      "text/plain": [
       "(0.14296817848233043, 0.2537516572364304)"
      ]
     },
     "execution_count": 55,
     "metadata": {},
     "output_type": "execute_result"
    }
   ],
   "source": [
    "mean = np.mean(images / 255.0)\n",
    "std = np.std(images / 255.0)\n",
    "mean, std"
   ]
  },
  {
   "cell_type": "code",
   "execution_count": 67,
   "metadata": {},
   "outputs": [],
   "source": [
    "augs = A.Compose(\n",
    "    [\n",
    "        A.ShiftScaleRotate(shift_limit=0.0625, scale_limit=0.1, rotate_limit=10, p=0.9),\n",
    "        A.OneOf(\n",
    "            [\n",
    "                A.ElasticTransform(\n",
    "                    alpha = 120,\n",
    "                    sigma = 120 * 0.05,\n",
    "                    alpha_affine = 120 * 0.03\n",
    "                ),\n",
    "                A.GridDistortion(),\n",
    "                A.OpticalDistortion(distort_limit = 2, shift_limit = 0.5),\n",
    "            ],\n",
    "            p = 0.5\n",
    "        ),\n",
    "        A.OneOf(\n",
    "            [\n",
    "                A.RandomContrast(),\n",
    "                A.RandomGamma(),\n",
    "                A.RandomBrightness(),\n",
    "            ],\n",
    "            p = 0.5\n",
    "        ),\n",
    "        A.CoarseDropout(max_holes=4, max_height=4, max_width=4, p=0.25),\n",
    "        A.Normalize(config.MEAN, config.STD, max_pixel_value=255.0, always_apply=True),\n",
    "    ]\n",
    ")"
   ]
  },
  {
   "cell_type": "code",
   "execution_count": 68,
   "metadata": {},
   "outputs": [],
   "source": [
    "idx = 5\n",
    "image = images[idx]\n",
    "image = image.astype(np.uint8)"
   ]
  },
  {
   "cell_type": "code",
   "execution_count": 69,
   "metadata": {},
   "outputs": [
    {
     "data": {
      "image/png": "[encoded data removed]",
      "text/plain": [
       "<Figure size 432x288 with 1 Axes>"
      ]
     },
     "metadata": {
      "needs_background": "light"
     },
     "output_type": "display_data"
    }
   ],
   "source": [
    "plt.imshow(image, cmap=plt.cm.binary);"
   ]
  },
  {
   "cell_type": "code",
   "execution_count": 70,
   "metadata": {},
   "outputs": [
    {
     "data": {
      "image/png": "[encoded data removed]",
      "text/plain": [
       "<Figure size 432x288 with 1 Axes>"
      ]
     },
     "metadata": {
      "needs_background": "light"
     },
     "output_type": "display_data"
    }
   ],
   "source": [
    "augmented = augs(image=image)\n",
    "aug_image = augmented[\"image\"]\n",
    "plt.imshow(aug_image, cmap=plt.cm.binary);"
   ]
  },
  {
   "cell_type": "markdown",
   "metadata": {},
   "source": [
    "## Train"
   ]
  },
  {
   "cell_type": "code",
   "execution_count": 76,
   "metadata": {},
   "outputs": [],
   "source": [
    "device = torch.device(config.DEVICE)"
   ]
  },
  {
   "cell_type": "code",
   "execution_count": 77,
   "metadata": {},
   "outputs": [],
   "source": [
    "df_train, df_valid = model_selection.train_test_split(df, test_size=0.1, stratify=df.digit)\n",
    "\n",
    "train_dataset = dataset.EMNISTDataset(df_train, augs=augs)\n",
    "valid_dataset = dataset.EMNISTDataset(df_valid)\n",
    "\n",
    "train_loader = torch.utils.data.DataLoader(train_dataset, batch_size=config.TRAIN_BATCH_SIZE, shuffle=True)    \n",
    "valid_loader = torch.utils.data.DataLoader(valid_dataset, batch_size=config.TEST_BATCH_SIZE)"
   ]
  },
  {
   "cell_type": "code",
   "execution_count": 78,
   "metadata": {
    "scrolled": false
   },
   "outputs": [
    {
     "name": "stdout",
     "output_type": "stream",
     "text": [
      "Epoch: 0, Accuracy=0.15609756097560976\n",
      "Epoch: 1, Accuracy=0.33658536585365856\n",
      "Epoch: 2, Accuracy=0.3853658536585366\n",
      "Epoch: 3, Accuracy=0.5317073170731708\n",
      "Epoch: 4, Accuracy=0.6097560975609756\n",
      "Epoch: 5, Accuracy=0.6341463414634146\n",
      "Epoch: 6, Accuracy=0.5560975609756098\n",
      "Epoch: 7, Accuracy=0.6048780487804878\n",
      "Epoch: 8, Accuracy=0.5707317073170731\n",
      "Epoch: 9, Accuracy=0.7219512195121951\n",
      "Epoch: 10, Accuracy=0.7317073170731707\n",
      "Epoch: 11, Accuracy=0.751219512195122\n",
      "Epoch: 12, Accuracy=0.7170731707317073\n",
      "Epoch: 13, Accuracy=0.775609756097561\n",
      "Epoch: 14, Accuracy=0.7853658536585366\n",
      "Epoch: 15, Accuracy=0.8341463414634146\n",
      "Epoch: 16, Accuracy=0.848780487804878\n",
      "Epoch: 17, Accuracy=0.7951219512195122\n",
      "Epoch: 18, Accuracy=0.775609756097561\n",
      "Epoch: 19, Accuracy=0.8048780487804879\n",
      "Epoch: 20, Accuracy=0.8439024390243902\n",
      "Epoch: 21, Accuracy=0.775609756097561\n",
      "Epoch: 22, Accuracy=0.8097560975609757\n",
      "Epoch: 23, Accuracy=0.8292682926829268\n",
      "Epoch: 24, Accuracy=0.7658536585365854\n",
      "Epoch: 25, Accuracy=0.824390243902439\n",
      "Epoch: 26, Accuracy=0.8536585365853658\n",
      "Epoch: 27, Accuracy=0.848780487804878\n",
      "Epoch: 28, Accuracy=0.8390243902439024\n",
      "Epoch: 29, Accuracy=0.8\n",
      "Epoch: 30, Accuracy=0.8585365853658536\n",
      "Epoch: 31, Accuracy=0.8439024390243902\n",
      "Epoch: 32, Accuracy=0.8390243902439024\n",
      "Epoch: 33, Accuracy=0.8439024390243902\n",
      "Epoch: 34, Accuracy=0.8536585365853658\n",
      "Epoch: 35, Accuracy=0.8390243902439024\n",
      "Epoch: 36, Accuracy=0.8341463414634146\n",
      "Epoch: 37, Accuracy=0.8146341463414634\n",
      "Epoch: 38, Accuracy=0.8390243902439024\n",
      "Epoch: 39, Accuracy=0.8146341463414634\n",
      "Epoch: 40, Accuracy=0.8829268292682927\n",
      "Epoch: 41, Accuracy=0.8536585365853658\n",
      "Epoch: 42, Accuracy=0.848780487804878\n",
      "Epoch: 43, Accuracy=0.8439024390243902\n",
      "Epoch: 44, Accuracy=0.8195121951219512\n",
      "Epoch: 45, Accuracy=0.8682926829268293\n",
      "Epoch: 46, Accuracy=0.848780487804878\n",
      "Epoch: 47, Accuracy=0.8292682926829268\n",
      "Epoch: 48, Accuracy=0.8292682926829268\n",
      "Epoch: 49, Accuracy=0.8585365853658536\n",
      "Epoch: 50, Accuracy=0.8634146341463415\n",
      "Epoch    52: reducing learning rate of group 0 to 5.0000e-04.\n",
      "Epoch: 51, Accuracy=0.8390243902439024\n",
      "Epoch: 52, Accuracy=0.848780487804878\n",
      "Epoch: 53, Accuracy=0.8585365853658536\n",
      "Epoch: 54, Accuracy=0.8731707317073171\n",
      "Epoch: 55, Accuracy=0.8682926829268293\n",
      "Epoch: 56, Accuracy=0.8878048780487805\n",
      "Epoch: 57, Accuracy=0.8634146341463415\n",
      "Epoch: 58, Accuracy=0.8536585365853658\n",
      "Epoch: 59, Accuracy=0.8780487804878049\n",
      "Epoch: 60, Accuracy=0.8780487804878049\n",
      "Epoch: 61, Accuracy=0.8390243902439024\n",
      "Epoch: 62, Accuracy=0.8585365853658536\n",
      "Epoch: 63, Accuracy=0.848780487804878\n",
      "Epoch: 64, Accuracy=0.8634146341463415\n",
      "Epoch: 65, Accuracy=0.8731707317073171\n",
      "Epoch: 66, Accuracy=0.8097560975609757\n",
      "Epoch    68: reducing learning rate of group 0 to 2.5000e-04.\n",
      "Epoch: 67, Accuracy=0.8536585365853658\n",
      "Epoch: 68, Accuracy=0.8829268292682927\n",
      "Epoch: 69, Accuracy=0.8878048780487805\n",
      "Epoch: 70, Accuracy=0.8731707317073171\n",
      "Epoch: 71, Accuracy=0.8780487804878049\n",
      "Epoch: 72, Accuracy=0.848780487804878\n",
      "Epoch: 73, Accuracy=0.8780487804878049\n",
      "Epoch: 74, Accuracy=0.8731707317073171\n",
      "Epoch: 75, Accuracy=0.8536585365853658\n",
      "Epoch: 76, Accuracy=0.8634146341463415\n",
      "Epoch: 77, Accuracy=0.8536585365853658\n",
      "Epoch    79: reducing learning rate of group 0 to 1.2500e-04.\n",
      "Epoch: 78, Accuracy=0.8536585365853658\n",
      "Epoch: 79, Accuracy=0.8731707317073171\n",
      "Epoch: 80, Accuracy=0.8731707317073171\n",
      "Epoch: 81, Accuracy=0.8780487804878049\n",
      "Epoch: 82, Accuracy=0.8634146341463415\n",
      "Epoch: 83, Accuracy=0.8829268292682927\n",
      "Epoch: 84, Accuracy=0.8731707317073171\n",
      "Epoch: 85, Accuracy=0.8731707317073171\n",
      "Epoch: 86, Accuracy=0.8731707317073171\n",
      "Epoch: 87, Accuracy=0.8682926829268293\n",
      "Epoch: 88, Accuracy=0.8731707317073171\n",
      "Epoch    90: reducing learning rate of group 0 to 6.2500e-05.\n",
      "Epoch: 89, Accuracy=0.8682926829268293\n",
      "Epoch: 90, Accuracy=0.8634146341463415\n",
      "Epoch: 91, Accuracy=0.8731707317073171\n",
      "Epoch: 92, Accuracy=0.8682926829268293\n",
      "Epoch: 93, Accuracy=0.8780487804878049\n",
      "Epoch: 94, Accuracy=0.8878048780487805\n",
      "Epoch: 95, Accuracy=0.8926829268292683\n",
      "Epoch: 96, Accuracy=0.8780487804878049\n",
      "Epoch: 97, Accuracy=0.8878048780487805\n",
      "Epoch: 98, Accuracy=0.8682926829268293\n",
      "Epoch: 99, Accuracy=0.8780487804878049\n",
      "Epoch: 100, Accuracy=0.8878048780487805\n",
      "Epoch: 101, Accuracy=0.8829268292682927\n",
      "Epoch: 102, Accuracy=0.8682926829268293\n",
      "Epoch: 103, Accuracy=0.8780487804878049\n",
      "Epoch: 104, Accuracy=0.8731707317073171\n",
      "Epoch: 105, Accuracy=0.8829268292682927\n",
      "Epoch   107: reducing learning rate of group 0 to 3.1250e-05.\n",
      "Epoch: 106, Accuracy=0.8780487804878049\n",
      "Epoch: 107, Accuracy=0.8829268292682927\n",
      "Epoch: 108, Accuracy=0.8780487804878049\n",
      "Epoch: 109, Accuracy=0.8731707317073171\n",
      "Epoch: 110, Accuracy=0.8780487804878049\n",
      "Epoch: 111, Accuracy=0.8780487804878049\n",
      "Epoch: 112, Accuracy=0.8682926829268293\n",
      "Epoch: 113, Accuracy=0.8682926829268293\n",
      "Epoch: 114, Accuracy=0.8634146341463415\n",
      "Epoch: 115, Accuracy=0.8682926829268293\n",
      "Epoch: 116, Accuracy=0.8731707317073171\n",
      "Epoch   118: reducing learning rate of group 0 to 1.5625e-05.\n",
      "Epoch: 117, Accuracy=0.8731707317073171\n",
      "Epoch: 118, Accuracy=0.8731707317073171\n",
      "Epoch: 119, Accuracy=0.8829268292682927\n",
      "Epoch: 120, Accuracy=0.8682926829268293\n",
      "Epoch: 121, Accuracy=0.8731707317073171\n",
      "Epoch: 122, Accuracy=0.8731707317073171\n",
      "Epoch: 123, Accuracy=0.8682926829268293\n",
      "Epoch: 124, Accuracy=0.8585365853658536\n",
      "Epoch: 125, Accuracy=0.8731707317073171\n",
      "Epoch: 126, Accuracy=0.8731707317073171\n",
      "Epoch: 127, Accuracy=0.8682926829268293\n",
      "Epoch   129: reducing learning rate of group 0 to 7.8125e-06.\n",
      "Epoch: 128, Accuracy=0.8780487804878049\n",
      "Epoch: 129, Accuracy=0.8682926829268293\n",
      "Epoch: 130, Accuracy=0.8682926829268293\n",
      "Epoch: 131, Accuracy=0.8682926829268293\n",
      "Epoch: 132, Accuracy=0.8780487804878049\n",
      "Epoch: 133, Accuracy=0.8731707317073171\n",
      "Epoch: 134, Accuracy=0.8780487804878049\n",
      "Epoch: 135, Accuracy=0.8682926829268293\n",
      "Epoch: 136, Accuracy=0.8682926829268293\n",
      "Epoch: 137, Accuracy=0.8731707317073171\n",
      "Epoch: 138, Accuracy=0.8731707317073171\n",
      "Epoch   140: reducing learning rate of group 0 to 3.9063e-06.\n",
      "Epoch: 139, Accuracy=0.8829268292682927\n",
      "Epoch: 140, Accuracy=0.8780487804878049\n",
      "Epoch: 141, Accuracy=0.8731707317073171\n",
      "Epoch: 142, Accuracy=0.8780487804878049\n",
      "Epoch: 143, Accuracy=0.8731707317073171\n",
      "Epoch: 144, Accuracy=0.8731707317073171\n",
      "Epoch: 145, Accuracy=0.8731707317073171\n",
      "Epoch: 146, Accuracy=0.8731707317073171\n",
      "Epoch: 147, Accuracy=0.8731707317073171\n",
      "Epoch: 148, Accuracy=0.8682926829268293\n",
      "Epoch: 149, Accuracy=0.8682926829268293\n"
     ]
    }
   ],
   "source": [
    "model = models.SpinalVGG()\n",
    "model.to(device)\n",
    "\n",
    "optimizer = torch.optim.Adam(model.parameters())\n",
    "scheduler = torch.optim.lr_scheduler.ReduceLROnPlateau(\n",
    "    optimizer, mode='max', verbose=True, patience=10, factor=0.5\n",
    ")\n",
    "\n",
    "for epoch in range(config.EPOCHS):\n",
    "    engine.train(train_loader, model, optimizer, device)\n",
    "    predictions, targets = engine.evaluate(valid_loader, model, device)\n",
    "\n",
    "    predictions = np.array(predictions)\n",
    "    predictions = np.argmax(predictions, axis=1)\n",
    "    accuracy = metrics.accuracy_score(targets, predictions)\n",
    "    \n",
    "    scheduler.step(accuracy)\n",
    "    \n",
    "    print(f\"Epoch: {epoch}, Accuracy={accuracy}\")"
   ]
  },
  {
   "cell_type": "code",
   "execution_count": 29,
   "metadata": {},
   "outputs": [],
   "source": [
    "torch.save(model.state_dict(), \"../models/augs.pt\")"
   ]
  },
  {
   "cell_type": "markdown",
   "metadata": {},
   "source": [
    "## Inference"
   ]
  },
  {
   "cell_type": "code",
   "execution_count": 31,
   "metadata": {},
   "outputs": [
    {
     "data": {
      "text/plain": [
       "<All keys matched successfully>"
      ]
     },
     "execution_count": 31,
     "metadata": {},
     "output_type": "execute_result"
    }
   ],
   "source": [
    "# model = models.Model()\n",
    "model = models.SpinalVGG()\n",
    "model.load_state_dict(torch.load(\"../models/augs.pt\"))\n",
    "model.to(device)"
   ]
  },
  {
   "cell_type": "code",
   "execution_count": 19,
   "metadata": {},
   "outputs": [],
   "source": [
    "df_test = pd.read_csv(config.TEST_CSV)\n",
    "test_dataset = dataset.EMNISTTestDataset(df_test)\n",
    "test_loader = torch.utils.data.DataLoader(test_dataset, batch_size=config.TEST_BATCH_SIZE)"
   ]
  },
  {
   "cell_type": "code",
   "execution_count": 49,
   "metadata": {},
   "outputs": [],
   "source": [
    "predictions = engine.infer(test_loader, model, device)\n",
    "predictions = np.array(predictions)\n",
    "predictions = np.argmax(predictions, axis=1)"
   ]
  },
  {
   "cell_type": "code",
   "execution_count": 50,
   "metadata": {},
   "outputs": [
    {
     "data": {
      "text/html": [
       "<div>\n",
       "<style scoped>\n",
       "    .dataframe tbody tr th:only-of-type {\n",
       "        vertical-align: middle;\n",
       "    }\n",
       "\n",
       "    .dataframe tbody tr th {\n",
       "        vertical-align: top;\n",
       "    }\n",
       "\n",
       "    .dataframe thead th {\n",
       "        text-align: right;\n",
       "    }\n",
       "</style>\n",
       "<table border=\"1\" class=\"dataframe\">\n",
       "  <thead>\n",
       "    <tr style=\"text-align: right;\">\n",
       "      <th></th>\n",
       "      <th>id</th>\n",
       "      <th>digit</th>\n",
       "    </tr>\n",
       "  </thead>\n",
       "  <tbody>\n",
       "    <tr>\n",
       "      <th>0</th>\n",
       "      <td>2049</td>\n",
       "      <td>6</td>\n",
       "    </tr>\n",
       "    <tr>\n",
       "      <th>1</th>\n",
       "      <td>2050</td>\n",
       "      <td>9</td>\n",
       "    </tr>\n",
       "    <tr>\n",
       "      <th>2</th>\n",
       "      <td>2051</td>\n",
       "      <td>8</td>\n",
       "    </tr>\n",
       "    <tr>\n",
       "      <th>3</th>\n",
       "      <td>2052</td>\n",
       "      <td>0</td>\n",
       "    </tr>\n",
       "    <tr>\n",
       "      <th>4</th>\n",
       "      <td>2053</td>\n",
       "      <td>3</td>\n",
       "    </tr>\n",
       "  </tbody>\n",
       "</table>\n",
       "</div>"
      ],
      "text/plain": [
       "     id  digit\n",
       "0  2049      6\n",
       "1  2050      9\n",
       "2  2051      8\n",
       "3  2052      0\n",
       "4  2053      3"
      ]
     },
     "execution_count": 50,
     "metadata": {},
     "output_type": "execute_result"
    }
   ],
   "source": [
    "submission = pd.DataFrame({\"id\": df_test.id, \"digit\": predictions})\n",
    "submission.to_csv(\"../output/augs.csv\", index=False)\n",
    "submission.head()"
   ]
  },
  {
   "cell_type": "markdown",
   "metadata": {},
   "source": [
    "### TTA"
   ]
  },
  {
   "cell_type": "code",
   "execution_count": null,
   "metadata": {},
   "outputs": [],
   "source": [
    "predictions = engine.inferTTA(df_test, model, device, augs)\n",
    "predictions = np.argmax(predictions, axis=1)"
   ]
  },
  {
   "cell_type": "code",
   "execution_count": null,
   "metadata": {},
   "outputs": [],
   "source": [
    "submission = pd.DataFrame({\"id\": df_test.id, \"digit\": predictions})\n",
    "submission.to_csv(\"../output/augs_tta.csv\", index=False)\n",
    "submission.head()"
   ]
  },
  {
   "cell_type": "code",
   "execution_count": null,
   "metadata": {},
   "outputs": [],
   "source": []
  },
  {
   "cell_type": "code",
   "execution_count": null,
   "metadata": {},
   "outputs": [],
   "source": []
  },
  {
   "cell_type": "code",
   "execution_count": null,
   "metadata": {},
   "outputs": [],
   "source": []
  },
  {
   "cell_type": "code",
   "execution_count": null,
   "metadata": {},
   "outputs": [],
   "source": []
  },
  {
   "cell_type": "code",
   "execution_count": null,
   "metadata": {},
   "outputs": [],
   "source": []
  },
  {
   "cell_type": "code",
   "execution_count": null,
   "metadata": {},
   "outputs": [],
   "source": []
  },
  {
   "cell_type": "code",
   "execution_count": null,
   "metadata": {},
   "outputs": [],
   "source": []
  },
  {
   "cell_type": "code",
   "execution_count": null,
   "metadata": {},
   "outputs": [],
   "source": []
  },
  {
   "cell_type": "code",
   "execution_count": null,
   "metadata": {},
   "outputs": [],
   "source": []
  },
  {
   "cell_type": "code",
   "execution_count": null,
   "metadata": {},
   "outputs": [],
   "source": []
  },
  {
   "cell_type": "code",
   "execution_count": null,
   "metadata": {},
   "outputs": [],
   "source": []
  },
  {
   "cell_type": "code",
   "execution_count": null,
   "metadata": {},
   "outputs": [],
   "source": []
  },
  {
   "cell_type": "code",
   "execution_count": null,
   "metadata": {},
   "outputs": [],
   "source": []
  }
 ],
 "metadata": {
  "kernelspec": {
   "display_name": "Python [conda env:ml] *",
   "language": "python",
   "name": "conda-env-ml-py"
  },
  "language_info": {
   "codemirror_mode": {
    "name": "ipython",
    "version": 3
   },
   "file_extension": ".py",
   "mimetype": "text/x-python",
   "name": "python",
   "nbconvert_exporter": "python",
   "pygments_lexer": "ipython3",
   "version": "3.7.7"
  }
 },
 "nbformat": 4,
 "nbformat_minor": 4
}
